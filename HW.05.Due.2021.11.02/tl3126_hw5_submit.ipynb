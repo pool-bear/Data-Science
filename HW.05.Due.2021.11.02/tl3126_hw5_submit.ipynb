{
 "cells": [
  {
   "cell_type": "code",
   "execution_count": 2,
   "id": "b8483bdd",
   "metadata": {},
   "outputs": [
    {
     "name": "stdout",
     "output_type": "stream",
     "text": [
      "Coefficients: \n",
      "\tb0 = 10.022349676897818 \n",
      "\tb1 = 0.4998812051949368 \n",
      "\tb2 = 2.9997389498012184\n",
      "Estimated sigma:  3.0222744547697356\n",
      "Prediction variance at (3.14,3.14):  9.13564345727913\n",
      "Prediction variance estimated: 9.134900525181212\n",
      "MSE for test fold associated with K:\n",
      "\tK=1:  9.166084971241943\n",
      "\tK=2:  9.195142679952387\n",
      "\tK=3:  9.00878302820185\n",
      "\tK=4:  9.164902293545994\n",
      "\tK=5:  9.13958965296389\n"
     ]
    }
   ],
   "source": [
    "'''\n",
    "Tianyi Lu, UNI:tl3126, E-mail:tl3126@columbia.edu\n",
    "ACTU PS5841 Data Science Assignment 5\n",
    "'''\n",
    "import numpy as np\n",
    "import pandas as pd\n",
    "from sklearn.linear_model import LinearRegression as lr\n",
    "from numpy.linalg import inv\n",
    "from sklearn.model_selection import KFold\n",
    "from sklearn.model_selection import cross_val_score\n",
    "from sklearn.metrics import mean_squared_error\n",
    "\n",
    "#Part a1\n",
    "raw=pd.read_csv('~/Documents/data.csv')\n",
    "x=raw.iloc[:,0:2]\n",
    "y=raw.iloc[:,2]\n",
    "reg=lr().fit(x,y)\n",
    "print(\"Coefficients:\",\"\\n\\tb0 =\",reg.intercept_,\"\\n\\tb1 =\",reg.coef_[0],\"\\n\\tb2 =\",reg.coef_[1])\n",
    "\n",
    "#Part a2\n",
    "def sse(x,y):\n",
    "    y_pred=reg.predict(x)\n",
    "    return np.sum((y-y_pred).T@(y-y_pred))\n",
    "sigma2_est=sse(x,y)/(x.shape[0]-x.shape[1]-1)\n",
    "print(\"Estimated sigma: \",np.sqrt(sigma2_est))\n",
    "\n",
    "#Part B\n",
    "x_=np.hstack((np.ones((x.shape[0],1)),x))\n",
    "def predVar(x1,x2):\n",
    "    input=np.array([1,x1,x2]).reshape(-1,1)\n",
    "    return ((input.T)@inv(x_.T@x_)@input*sigma2_est)[0][0]+sigma2_est\n",
    "print(\"Prediction variance at (3.14,3.14): \",predVar(3.14,3.14))\n",
    "\n",
    "#Part C\n",
    "k=5\n",
    "split=KFold(n_splits=k)\n",
    "scores=-cross_val_score(reg,x,y,cv=split,scoring='neg_mean_squared_error')\n",
    "print(\"Prediction variance estimated:\",np.mean(scores))\n",
    "print(\"MSE for test fold associated with K:\")\n",
    "for i in range(k):\n",
    "    print(\"\\tK=\"+str(i+1)+\": \",scores[i])"
   ]
  },
  {
   "cell_type": "code",
   "execution_count": null,
   "id": "ec1c0dcd",
   "metadata": {},
   "outputs": [],
   "source": []
  }
 ],
 "metadata": {
  "kernelspec": {
   "display_name": "Python 3 (ipykernel)",
   "language": "python",
   "name": "python3"
  },
  "language_info": {
   "codemirror_mode": {
    "name": "ipython",
    "version": 3
   },
   "file_extension": ".py",
   "mimetype": "text/x-python",
   "name": "python",
   "nbconvert_exporter": "python",
   "pygments_lexer": "ipython3",
   "version": "3.9.7"
  }
 },
 "nbformat": 4,
 "nbformat_minor": 5
}
