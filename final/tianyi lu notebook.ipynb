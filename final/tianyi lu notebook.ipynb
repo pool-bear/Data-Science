{
 "cells": [
  {
   "cell_type": "code",
   "execution_count": 9,
   "id": "f4821024",
   "metadata": {},
   "outputs": [
    {
     "name": "stdout",
     "output_type": "stream",
     "text": [
      "a:\n",
      "      Year No. of Tdays Volatility No. of 75bpGaps\n",
      "      2021        238      81.37          7\n",
      "      2020        253     216.89         68\n",
      "      2019        252      78.57         15\n",
      "      2018        251     107.41         21\n",
      "      2017        251      42.12          1\n",
      "\n",
      "b:\n"
     ]
    },
    {
     "data": {
      "image/png": "[encoded data removed]",
      "text/plain": [
       "<Figure size 432x288 with 1 Axes>"
      ]
     },
     "metadata": {
      "needs_background": "light"
     },
     "output_type": "display_data"
    },
    {
     "name": "stdout",
     "output_type": "stream",
     "text": [
      "\n",
      "c:\n",
      "      Year No. of Tdays No. of 75byGaps Fitted No. of 75bpGaps\n",
      "      2021        238          7       7.12\n",
      "      2020        253         68      70.59\n",
      "      2019        252         15      11.42\n",
      "      2018        251         21      15.98\n",
      "      2017        251          1       6.88\n",
      "\n",
      "d:\n",
      "predict 2022: 19.87586\n",
      "Pseudo R2: 0.97198\n",
      "RMSE: 14.09565\n"
     ]
    }
   ],
   "source": [
    "import numpy as np\n",
    "import matplotlib.pyplot as plt\n",
    "import pandas as pd\n",
    "from sklearn.linear_model import PoissonRegressor\n",
    "\n",
    "# Load data\n",
    "df = pd.read_csv('data.csv')\n",
    "\n",
    "# Data wrangling\n",
    "df['Timestamp'] = pd.to_datetime(df['Date'])\n",
    "df['Year'] = pd.DatetimeIndex(df['Timestamp']).year\n",
    "df.sort_values(by=['Timestamp'], inplace=True, ascending=False)\n",
    "df['Return'] = df['Close'].pct_change(-1)*10000\n",
    "df['Gap'] = (df['Open']/df['Close'].shift(-1)-1)*10000\n",
    "df['Large_gap'] = abs(df['Gap'])\n",
    "df['Large_gap'] = df['Large_gap'].apply(lambda x: 1 if x > 75 else 0)\n",
    "\n",
    "# Calculate the metrics for part a\n",
    "Year = [2017, 2018, 2019, 2020, 2021]\n",
    "No_of_TDays = []\n",
    "volatility = []\n",
    "No_of_75bpGaps = []\n",
    "for i in range(2017,2022):\n",
    "    No_of_TDays.append(len(df[df['Year'] == i]))\n",
    "    volatility.append(df[df['Year'] == i]['Return'].std())\n",
    "    No_of_75bpGaps.append(len(df[(df['Year'] == i) & (df['Large_gap'] == 1)]))\n",
    "\n",
    "# Print part a\n",
    "print('a:')\n",
    "print('{:>10} {:>10} {:>10} {:>10}'.format('Year', 'No. of Tdays', 'Volatility', 'No. of 75bpGaps'))\n",
    "for i in range(4,-1,-1):\n",
    "    print('{:>10} {:>10} {:>10} {:>10}'.format(Year[i],No_of_TDays[i],round(volatility[i],2),No_of_75bpGaps[i]))\n",
    "\n",
    "# Plot No. of\n",
    "print('\\nb:')\n",
    "plt.scatter(volatility, No_of_75bpGaps)\n",
    "plt.xlabel('vol (bp/day)')\n",
    "plt.ylabel('No. of Large Gaps')\n",
    "plt.title('Large Gaps vs Volatility')\n",
    "plt.show()\n",
    "\n",
    "# Perform Poisson regression\n",
    "y=No_of_75bpGaps\n",
    "x=np.column_stack((No_of_TDays, volatility))\n",
    "model = PoissonRegressor(alpha=0)\n",
    "model.fit(x, y)\n",
    "y_pred=model.predict(x)\n",
    "\n",
    "# Print fitted values\n",
    "print('\\nc:')\n",
    "print('{:>10} {:>10} {:>10} {:>10}'.format('Year', 'No. of Tdays', 'No. of 75byGaps', 'Fitted No. of 75bpGaps'))\n",
    "for i in range(4,-1,-1):\n",
    "    print('{:>10} {:>10} {:>10} {:>10}'.format(Year[i],No_of_TDays[i],No_of_75bpGaps[i],round(y_pred[i],2)))\n",
    "\n",
    "# Prediction and evaluation\n",
    "predict_2022 = model.predict([[252, 121.5]])\n",
    "print('\\nd:')\n",
    "print('predict 2022:', np.array(predict_2022)[0].round(5))\n",
    "def pseudo_r2(y_true, y_pred):\n",
    "    SS_res =  np.sum((y_true - y_pred) ** 2)\n",
    "    SS_tot = np.sum((y_true - np.mean(y_true)) ** 2)\n",
    "    return 1 - (SS_res / SS_tot)\n",
    "pseudo_r2_score = pseudo_r2(y, y_pred)\n",
    "print('Pseudo R2:', round(pseudo_r2_score,5))\n",
    "def rmse(predictions, targets):\n",
    "    return np.sqrt(((predictions - targets) ** 2).mean())\n",
    "rmse_record=[]\n",
    "for i in range(2017,2022):\n",
    "    if i == 2020:\n",
    "        continue\n",
    "    index=i-2017\n",
    "    x_train=np.delete(x, index, 0).reshape(-1,2)\n",
    "    y_train=np.delete(y, index, 0)\n",
    "    x_test=np.array(x[index]).reshape(-1,2)\n",
    "    y_test=np.array(y[index])\n",
    "    model.fit(x_train, y_train)\n",
    "    y_pred = model.predict(x_test)\n",
    "    rmse_record.append(rmse(y_pred, y_test))\n",
    "print('RMSE:', np.array(rmse_record).mean().round(5))"
   ]
  },
  {
   "cell_type": "code",
   "execution_count": null,
   "id": "cbd1e9a8",
   "metadata": {},
   "outputs": [],
   "source": []
  }
 ],
 "metadata": {
  "kernelspec": {
   "display_name": "Python 3.9.7 64-bit ('py39t': conda)",
   "language": "python",
   "name": "python397jvsc74a57bd042c2284a72a280af64f2c09a4408748841d616e7e4a58715ae0f72b118e2433f"
  },
  "language_info": {
   "codemirror_mode": {
    "name": "ipython",
    "version": 3
   },
   "file_extension": ".py",
   "mimetype": "text/x-python",
   "name": "python",
   "nbconvert_exporter": "python",
   "pygments_lexer": "ipython3",
   "version": "3.9.7"
  }
 },
 "nbformat": 4,
 "nbformat_minor": 5
}
