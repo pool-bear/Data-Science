{
 "cells": [
  {
   "cell_type": "code",
   "execution_count": 1,
   "id": "b8483bdd",
   "metadata": {},
   "outputs": [
    {
     "name": "stdout",
     "output_type": "stream",
     "text": [
      "Sklearn results:\n",
      "b0=6.102674843613078\n",
      "b1=-0.18397229541610216\n",
      "Log likelihood=-8.656411974760779\n",
      "\n",
      "Statsmodels results:\n",
      "b0=6.188356589305877\n",
      "b1=-0.18730851545189356\n",
      "Log likelihood=-8.649522123148905\n",
      "Pseudo R2=0.7868917478131595\n"
     ]
    }
   ],
   "source": [
    "'''\n",
    "Tianyi Lu, UNI:tl3126, E-mail:tl3126@columbia.edu\n",
    "ACTU PS5841 Data Science Assignment 7\n",
    "'''\n",
    "from sklearn.linear_model import PoissonRegressor\n",
    "from statsmodels.api import Poisson\n",
    "import numpy as np\n",
    "import pandas as pd\n",
    "\n",
    "# Load the data\n",
    "df=pd.read_csv('~/Documents/data.csv')\n",
    "y=df['accidents'].values.reshape(-1,1)\n",
    "df['accidents_']=df['accidents']/df['personyears']\n",
    "y_=df['accidents_'].values.reshape(-1,1)\n",
    "x=df['age'].values.reshape(-1,1)\n",
    "x_=np.hstack((np.ones((len(y),1)),df['age'].values.reshape(-1,1)))\n",
    "\n",
    "# Log likelihood\n",
    "def log_likelihood(x,y,beta):\n",
    "    lmb=np.exp(np.log(df['personyears'].values.reshape(-1,1))+beta[0][0]+beta[1][0]*x)\n",
    "    output=0\n",
    "    for i in range(lmb.shape[0]):\n",
    "        log_factorial=0\n",
    "        for j in range(y[i][0]):\n",
    "            log_factorial+=np.log(j+1)\n",
    "        output+=-lmb[i][0]+y[i][0]*np.log(lmb[i][0])-log_factorial\n",
    "    return output\n",
    "\n",
    "# Sklearn\n",
    "reg_sk=PoissonRegressor(alpha=0).fit(x,np.ravel(y_))\n",
    "beta_sk=np.array([[reg_sk.intercept_],[reg_sk.coef_[0]]])\n",
    "print(\"Sklearn results:\")\n",
    "print(\"b0=\"+str(beta_sk[0][0])+\"\\nb1=\"+str(beta_sk[1][0]))\n",
    "print(\"Log likelihood=\"+str(log_likelihood(x,y,beta_sk))+\"\\n\")\n",
    "\n",
    "# Statsmodels\n",
    "reg_sm=Poisson(y,x_,offset=np.log(df['personyears'])).fit(disp=0)\n",
    "beta_sm=reg_sm.params.reshape(-1,1)\n",
    "print(\"Statsmodels results:\")\n",
    "print(\"b0=\"+str(beta_sm[0][0])+\"\\nb1=\"+str(beta_sm[1][0]))\n",
    "ll_sm=log_likelihood(x,y,beta_sm)\n",
    "print(\"Log likelihood=\"+str(ll_sm))\n",
    "reg_nv=Poisson(y,np.ones((len(y),1)),offset=np.log(df['personyears'])).fit(disp=0)\n",
    "beta_nv=np.vstack((reg_nv.params,np.zeros((1,1))))\n",
    "ll_nv=log_likelihood(x,y,beta_nv)\n",
    "print(\"Pseudo R2=\"+str(1-ll_sm/ll_nv))"
   ]
  },
  {
   "cell_type": "code",
   "execution_count": null,
   "id": "444f1c3b",
   "metadata": {},
   "outputs": [],
   "source": []
  }
 ],
 "metadata": {
  "kernelspec": {
   "display_name": "Python 3 (ipykernel)",
   "language": "python",
   "name": "python3"
  },
  "language_info": {
   "codemirror_mode": {
    "name": "ipython",
    "version": 3
   },
   "file_extension": ".py",
   "mimetype": "text/x-python",
   "name": "python",
   "nbconvert_exporter": "python",
   "pygments_lexer": "ipython3",
   "version": "3.9.7"
  }
 },
 "nbformat": 4,
 "nbformat_minor": 5
}
