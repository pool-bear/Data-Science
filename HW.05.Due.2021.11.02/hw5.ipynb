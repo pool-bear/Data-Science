{
 "cells": [
  {
   "cell_type": "code",
   "execution_count": 1,
   "id": "b8483bdd",
   "metadata": {},
   "outputs": [
    {
     "name": "stdout",
     "output_type": "stream",
     "text": [
      "Coefficients: \n",
      "\tb0 = 10.022349676897818 \n",
      "\tb1 = 0.4998812051949368 \n",
      "\tb2 = 2.9997389498012184\n",
      "Estimated sigma = 3.0222744547697356\n",
      "Predicted variance = 9.13564345727913\n",
      "Prediction variance estimated with 5-fold cross validation: 9.134663036432318\n",
      "MSE for other k:\n",
      "\t2-fold:  9.134598552023961\n",
      "\t3-fold:  9.133945727306843\n",
      "\t4-fold:  9.134330296966342\n"
     ]
    }
   ],
   "source": [
    "'''\n",
    "Tianyi Lu, UNI:tl3126, E-mail:tl3126@columbia.edu\n",
    "ACTU PS5841 Data Science Assignment 5\n",
    "'''\n",
    "import numpy as np\n",
    "import pandas as pd\n",
    "from sklearn.linear_model import LinearRegression as lr\n",
    "from numpy.linalg import inv\n",
    "from sklearn.model_selection import KFold\n",
    "from sklearn.model_selection import cross_val_score as cv\n",
    "from sklearn.metrics import mean_squared_error\n",
    "\n",
    "#Part a1\n",
    "raw=pd.read_csv('data.csv')\n",
    "x=raw.iloc[:,0:2]\n",
    "y=raw.iloc[:,2]\n",
    "reg=lr().fit(x,y)\n",
    "print(\"Coefficients:\",\"\\n\\tb0 =\",reg.intercept_,\"\\n\\tb1 =\",reg.coef_[0],\"\\n\\tb2 =\",reg.coef_[1])\n",
    "\n",
    "#Part a2\n",
    "def sse(x,y):\n",
    "    y_pred=reg.predict(x)\n",
    "    return np.sum((y-y_pred).T@(y-y_pred))\n",
    "sigma2_est=sse(x,y)/(x.shape[0]-x.shape[1]-1)\n",
    "print(\"Estimated sigma =\",np.sqrt(sigma2_est))\n",
    "\n",
    "#Part B\n",
    "x_=np.hstack((np.ones((x.shape[0],1)),x))\n",
    "def predVar(x1,x2):\n",
    "    input=np.array([1,x1,x2]).reshape(-1,1)\n",
    "    return ((input.T)@inv(x_.T@x_)@input*sigma2_est)[0][0]+sigma2_est\n",
    "print(\"Predicted variance =\",predVar(3.14,3.14))\n",
    "\n",
    "#Part C\n",
    "k_start=2 #1-fold is not possible?\n",
    "k_end=5\n",
    "mse_kfold=[]\n",
    "for k in range(k_start,k_end+1):\n",
    "    split=KFold(n_splits=k,shuffle=True,random_state=3126)\n",
    "    scores=cv(reg,x,y,cv=split,scoring='neg_mean_squared_error')\n",
    "    scores=-scores\n",
    "    mse_kfold.append(np.mean(scores))\n",
    "print(\"Prediction variance estimated with 5-fold cross validation:\",mse_kfold[5-k_start])\n",
    "print(\"MSE for other k:\")\n",
    "for k in range(k_start,k_end):\n",
    "    print(\"\\t\"+str(k)+\"-fold: \",mse_kfold[k-k_start])"
   ]
  }
 ],
 "metadata": {
  "kernelspec": {
   "display_name": "Python 3 (ipykernel)",
   "language": "python",
   "name": "python3"
  },
  "language_info": {
   "codemirror_mode": {
    "name": "ipython",
    "version": 3
   },
   "file_extension": ".py",
   "mimetype": "text/x-python",
   "name": "python",
   "nbconvert_exporter": "python",
   "pygments_lexer": "ipython3",
   "version": "3.9.7"
  }
 },
 "nbformat": 4,
 "nbformat_minor": 5
}
